{
 "cells": [
  {
   "cell_type": "code",
   "execution_count": 34,
   "id": "f7cd4bad",
   "metadata": {},
   "outputs": [],
   "source": [
    "import pandas as pd\n",
    "import openpyxl, pprint, os, sys\n",
    "from datetime import datetime, timedelta\n",
    "from openpyxl.styles import Alignment"
   ]
  },
  {
   "cell_type": "code",
   "execution_count": 35,
   "id": "eade5061",
   "metadata": {},
   "outputs": [],
   "source": [
    "# csvファイルを読み込む\n",
    "products = pd.read_csv(\"../input/products.csv\", encoding=\"shift_jis\")\n",
    "orders = pd.read_csv(\"../input/orders.csv\", encoding=\"shift_jis\")"
   ]
  },
  {
   "cell_type": "code",
   "execution_count": 36,
   "id": "ec0cd081",
   "metadata": {},
   "outputs": [],
   "source": [
    "# テンプレートを読み込む\n",
    "quotation_wb = openpyxl.load_workbook(\"../template/quotation_template.xlsx\")\n",
    "# 対象のワークシートを読み込む\n",
    "quotation_ws = quotation_wb[\"Quotation\"]"
   ]
  },
  {
   "cell_type": "code",
   "execution_count": 37,
   "id": "0580aa97",
   "metadata": {
    "scrolled": true
   },
   "outputs": [
    {
     "name": "stdout",
     "output_type": "stream",
     "text": [
      "注文IDを入力して下さいO0003\n"
     ]
    }
   ],
   "source": [
    "# 対象の注文IDを対話形式で入力\n",
    "target_id = input(\"注文IDを入力して下さい\")"
   ]
  },
  {
   "cell_type": "code",
   "execution_count": 38,
   "id": "47c86f64",
   "metadata": {},
   "outputs": [
    {
     "data": {
      "text/html": [
       "<div>\n",
       "<style scoped>\n",
       "    .dataframe tbody tr th:only-of-type {\n",
       "        vertical-align: middle;\n",
       "    }\n",
       "\n",
       "    .dataframe tbody tr th {\n",
       "        vertical-align: top;\n",
       "    }\n",
       "\n",
       "    .dataframe thead th {\n",
       "        text-align: right;\n",
       "    }\n",
       "</style>\n",
       "<table border=\"1\" class=\"dataframe\">\n",
       "  <thead>\n",
       "    <tr style=\"text-align: right;\">\n",
       "      <th></th>\n",
       "      <th>order_id</th>\n",
       "      <th>customer_name</th>\n",
       "      <th>order_date</th>\n",
       "      <th>product_id</th>\n",
       "      <th>quantity</th>\n",
       "      <th>invoice_registration_number</th>\n",
       "    </tr>\n",
       "  </thead>\n",
       "  <tbody>\n",
       "    <tr>\n",
       "      <th>6</th>\n",
       "      <td>O0003</td>\n",
       "      <td>鈴木健</td>\n",
       "      <td>2025/5/11</td>\n",
       "      <td>P006</td>\n",
       "      <td>3</td>\n",
       "      <td>T1234567890003</td>\n",
       "    </tr>\n",
       "    <tr>\n",
       "      <th>7</th>\n",
       "      <td>O0003</td>\n",
       "      <td>鈴木健</td>\n",
       "      <td>2025/5/11</td>\n",
       "      <td>P002</td>\n",
       "      <td>5</td>\n",
       "      <td>T1234567890003</td>\n",
       "    </tr>\n",
       "  </tbody>\n",
       "</table>\n",
       "</div>"
      ],
      "text/plain": [
       "  order_id customer_name order_date product_id  quantity  \\\n",
       "6    O0003           鈴木健  2025/5/11       P006         3   \n",
       "7    O0003           鈴木健  2025/5/11       P002         5   \n",
       "\n",
       "  invoice_registration_number  \n",
       "6              T1234567890003  \n",
       "7              T1234567890003  "
      ]
     },
     "execution_count": 38,
     "metadata": {},
     "output_type": "execute_result"
    }
   ],
   "source": [
    "# 情報を元に見積書を作成\n",
    "# 対象の取引データを抽出\n",
    "target_orders = orders[orders[\"order_id\"] == target_id]\n",
    "target_orders"
   ]
  },
  {
   "cell_type": "code",
   "execution_count": 39,
   "id": "3b31a65b",
   "metadata": {},
   "outputs": [],
   "source": [
    "# データを結合\n",
    "merged = target_orders.merge(products, on=\"product_id\", how=\"left\")"
   ]
  },
  {
   "cell_type": "code",
   "execution_count": 40,
   "id": "49ae7a72",
   "metadata": {},
   "outputs": [],
   "source": [
    "# 金額列の小計\n",
    "merged[\"subtotal\"]  = merged[\"unit_price\"] * merged[\"quantity\"]"
   ]
  },
  {
   "cell_type": "code",
   "execution_count": 41,
   "id": "16421c74",
   "metadata": {},
   "outputs": [],
   "source": [
    "# 消費税\n",
    "merged[\"VAT\"] = merged[\"subtotal\"] * merged[\"tax_rate\"] / 100\n",
    "merged[\"VAT\"] = merged[\"VAT\"].round(0).astype(int)"
   ]
  },
  {
   "cell_type": "code",
   "execution_count": 42,
   "id": "9c5d6666",
   "metadata": {},
   "outputs": [],
   "source": [
    "# 合計\n",
    "merged[\"total_amount\"] = merged[\"subtotal\"] + merged[\"VAT\"]\n",
    "merged[\"total_amount\"] = merged[\"total_amount\"].astype(int)"
   ]
  },
  {
   "cell_type": "code",
   "execution_count": 43,
   "id": "cc16810f",
   "metadata": {},
   "outputs": [],
   "source": [
    "# 見積書への入力作業\n",
    "# 明細の開始行\n",
    "start_row = 19\n",
    "\n",
    "# 右詰めスタイルを作成\n",
    "right_align = Alignment(horizontal=\"right\")\n",
    "\n",
    "# 日付設定\n",
    "today = datetime.today()\n",
    "due_date = today + timedelta(days=30)\n",
    "\n",
    "# 明細行描写\n",
    "for i, (_, row) in enumerate(merged.iterrows()):\n",
    "    # No(連番)\n",
    "    quotation_ws.cell(row=start_row + i, column=2, value=i + 1) \n",
    "    # 商品名\n",
    "    quotation_ws.cell(row=start_row + i, column=3, value=row[\"product_name\"]) \n",
    "     # 数量\n",
    "    quotation_ws.cell(row=start_row + i, column=4, value=row[\"quantity\"])\n",
    "    # 単価(円)\n",
    "    cell = quotation_ws.cell(row=start_row + i, column=5, value=row[\"unit_price\"]) \n",
    "    cell.number_format = '\"¥\"#,##0'\n",
    "    # 金額(円)\n",
    "    cell = quotation_ws.cell(row=start_row + i, column=6, value=row[\"subtotal\"]) \n",
    "    cell.number_format = '\"¥\"#,##0'\n",
    "    \n",
    "# 小計金額\n",
    "cell = quotation_ws.cell(row=35, column=6, value=merged[\"subtotal\"].sum()) \n",
    "cell.number_format = '\"¥\"#,##0'\n",
    "\n",
    "# 消費税\n",
    "cell = quotation_ws.cell(row=36, column=6, value=merged[\"VAT\"].sum()) \n",
    "cell.number_format = '\"¥\"#,##0'\n",
    "\n",
    "# 合計金額\n",
    "cell = quotation_ws.cell(row=37, column=6, value=merged[\"total_amount\"].sum()) \n",
    "cell.number_format = '\"¥\"#,##0'\n",
    "\n",
    "# 宛名\n",
    "quotation_ws[\"B3\"] = merged.iloc[0][\"customer_name\"] + \"  様\"\n",
    "\n",
    "# 見積日\n",
    "cell = quotation_ws.cell(row=12, column=6, value=today.strftime(\"%Y年%m月%d日\")) \n",
    "cell.alignment = right_align\n",
    "\n",
    "# 振込期限\n",
    "cell = quotation_ws.cell(row=13, column=6, value=due_date.strftime(\"%Y年%m月%d日\")) \n",
    "cell.alignment = right_align\n",
    "    \n",
    "quotation_wb.save(f\"../output/{target_id}_quotation.xlsx\")"
   ]
  },
  {
   "cell_type": "code",
   "execution_count": null,
   "id": "3d30f7d6",
   "metadata": {},
   "outputs": [],
   "source": []
  }
 ],
 "metadata": {
  "kernelspec": {
   "display_name": "Python 3 (ipykernel)",
   "language": "python",
   "name": "python3"
  },
  "language_info": {
   "codemirror_mode": {
    "name": "ipython",
    "version": 3
   },
   "file_extension": ".py",
   "mimetype": "text/x-python",
   "name": "python",
   "nbconvert_exporter": "python",
   "pygments_lexer": "ipython3",
   "version": "3.9.7"
  }
 },
 "nbformat": 4,
 "nbformat_minor": 5
}
